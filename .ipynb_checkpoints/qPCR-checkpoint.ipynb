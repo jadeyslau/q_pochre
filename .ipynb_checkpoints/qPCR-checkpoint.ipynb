{
 "cells": [
  {
   "cell_type": "code",
   "execution_count": 14,
   "metadata": {},
   "outputs": [
    {
     "name": "stdout",
     "output_type": "stream",
     "text": [
      "The autoreload extension is already loaded. To reload it, use:\n",
      "  %reload_ext autoreload\n"
     ]
    }
   ],
   "source": [
    "%load_ext autoreload\n",
    "%autoreload 1\n",
    "    \n",
    "%aimport qPCR\n",
    "\n",
    "import qPCR as q"
   ]
  },
  {
   "cell_type": "code",
   "execution_count": 87,
   "metadata": {},
   "outputs": [
    {
     "data": {
      "text/html": [
       "<div>\n",
       "<style scoped>\n",
       "    .dataframe tbody tr th:only-of-type {\n",
       "        vertical-align: middle;\n",
       "    }\n",
       "\n",
       "    .dataframe tbody tr th {\n",
       "        vertical-align: top;\n",
       "    }\n",
       "\n",
       "    .dataframe thead th {\n",
       "        text-align: right;\n",
       "    }\n",
       "</style>\n",
       "<table border=\"1\" class=\"dataframe\">\n",
       "  <thead>\n",
       "    <tr style=\"text-align: right;\">\n",
       "      <th></th>\n",
       "      <th>Sample</th>\n",
       "      <th>Bio Rep</th>\n",
       "      <th>Target</th>\n",
       "      <th>Age</th>\n",
       "      <th>Mean Cq</th>\n",
       "      <th>Treatment</th>\n",
       "    </tr>\n",
       "  </thead>\n",
       "  <tbody>\n",
       "    <tr>\n",
       "      <th>8</th>\n",
       "      <td>3_BACTIN_1</td>\n",
       "      <td>1</td>\n",
       "      <td>BACTIN</td>\n",
       "      <td>3</td>\n",
       "      <td>16.403333</td>\n",
       "      <td>Gravel</td>\n",
       "    </tr>\n",
       "    <tr>\n",
       "      <th>10</th>\n",
       "      <td>3_BACTIN_1</td>\n",
       "      <td>1</td>\n",
       "      <td>BACTIN</td>\n",
       "      <td>3</td>\n",
       "      <td>13.836667</td>\n",
       "      <td>Gravel</td>\n",
       "    </tr>\n",
       "    <tr>\n",
       "      <th>12</th>\n",
       "      <td>3_BACTIN_2</td>\n",
       "      <td>2</td>\n",
       "      <td>BACTIN</td>\n",
       "      <td>3</td>\n",
       "      <td>16.813333</td>\n",
       "      <td>Gravel</td>\n",
       "    </tr>\n",
       "    <tr>\n",
       "      <th>14</th>\n",
       "      <td>3_BACTIN_2</td>\n",
       "      <td>2</td>\n",
       "      <td>BACTIN</td>\n",
       "      <td>3</td>\n",
       "      <td>14.876667</td>\n",
       "      <td>Gravel</td>\n",
       "    </tr>\n",
       "    <tr>\n",
       "      <th>9</th>\n",
       "      <td>3_BACTIN_1</td>\n",
       "      <td>1</td>\n",
       "      <td>BACTIN</td>\n",
       "      <td>3</td>\n",
       "      <td>17.416667</td>\n",
       "      <td>Non Gravel</td>\n",
       "    </tr>\n",
       "    <tr>\n",
       "      <th>...</th>\n",
       "      <td>...</td>\n",
       "      <td>...</td>\n",
       "      <td>...</td>\n",
       "      <td>...</td>\n",
       "      <td>...</td>\n",
       "      <td>...</td>\n",
       "    </tr>\n",
       "    <tr>\n",
       "      <th>51</th>\n",
       "      <td>NEG_2AA_2</td>\n",
       "      <td>2</td>\n",
       "      <td>GRIN2AA</td>\n",
       "      <td>NEG</td>\n",
       "      <td>0.000000</td>\n",
       "      <td>Non Gravel</td>\n",
       "    </tr>\n",
       "    <tr>\n",
       "      <th>52</th>\n",
       "      <td>NEG_2AB_1</td>\n",
       "      <td>1</td>\n",
       "      <td>GRIN2AB</td>\n",
       "      <td>NEG</td>\n",
       "      <td>0.000000</td>\n",
       "      <td>Gravel</td>\n",
       "    </tr>\n",
       "    <tr>\n",
       "      <th>54</th>\n",
       "      <td>NEG_2AB_2</td>\n",
       "      <td>2</td>\n",
       "      <td>GRIN2AB</td>\n",
       "      <td>NEG</td>\n",
       "      <td>0.000000</td>\n",
       "      <td>Gravel</td>\n",
       "    </tr>\n",
       "    <tr>\n",
       "      <th>53</th>\n",
       "      <td>NEG_2AB_1</td>\n",
       "      <td>1</td>\n",
       "      <td>GRIN2AB</td>\n",
       "      <td>NEG</td>\n",
       "      <td>0.000000</td>\n",
       "      <td>Non Gravel</td>\n",
       "    </tr>\n",
       "    <tr>\n",
       "      <th>55</th>\n",
       "      <td>NEG_2AB_2</td>\n",
       "      <td>2</td>\n",
       "      <td>GRIN2AB</td>\n",
       "      <td>NEG</td>\n",
       "      <td>0.000000</td>\n",
       "      <td>Non Gravel</td>\n",
       "    </tr>\n",
       "  </tbody>\n",
       "</table>\n",
       "<p>64 rows × 6 columns</p>\n",
       "</div>"
      ],
      "text/plain": [
       "        Sample Bio Rep   Target  Age    Mean Cq   Treatment\n",
       "8   3_BACTIN_1       1   BACTIN    3  16.403333      Gravel\n",
       "10  3_BACTIN_1       1   BACTIN    3  13.836667      Gravel\n",
       "12  3_BACTIN_2       2   BACTIN    3  16.813333      Gravel\n",
       "14  3_BACTIN_2       2   BACTIN    3  14.876667      Gravel\n",
       "9   3_BACTIN_1       1   BACTIN    3  17.416667  Non Gravel\n",
       "..         ...     ...      ...  ...        ...         ...\n",
       "51   NEG_2AA_2       2  GRIN2AA  NEG   0.000000  Non Gravel\n",
       "52   NEG_2AB_1       1  GRIN2AB  NEG   0.000000      Gravel\n",
       "54   NEG_2AB_2       2  GRIN2AB  NEG   0.000000      Gravel\n",
       "53   NEG_2AB_1       1  GRIN2AB  NEG   0.000000  Non Gravel\n",
       "55   NEG_2AB_2       2  GRIN2AB  NEG   0.000000  Non Gravel\n",
       "\n",
       "[64 rows x 6 columns]"
      ]
     },
     "metadata": {},
     "output_type": "display_data"
    }
   ],
   "source": [
    "#-------------------------------------------------------------------------------------------\n",
    "\n",
    "path_200228  = \"../../Analyses/200228_qPCR/\"\n",
    "fname_200228 = [\"200228_WT58_2AA_pt1\", \"200228_WT58_2AB_pt1\"]\n",
    "bio_ref      = ['3', 'GRIN2AA']\n",
    "data_200228  = q.Data(path_200228, fname_200228, 'BACTIN', bio_ref)\n",
    "\n",
    "\n",
    "# data_200228.plot_raw_cq()\n",
    "# data_200228.plot_RQ()\n",
    "print(data_200228.calculate_RQ())\n",
    "# data_200228.plot_norm_RQ()\n",
    "# raw_df = pd.concat(data_200228.tidy_each_experiment())\n",
    "# raw_df.to_csv('test.csv')\n",
    "# data_200228.normalise_to_bio_ref()"
   ]
  },
  {
   "cell_type": "code",
   "execution_count": 41,
   "metadata": {},
   "outputs": [],
   "source": [
    "path_200117  = \"../../Analyses/200117_qPCR/\"\n",
    "fname_200117 = [\"200117_WT58_gravel_non_gravel_pt1\", \"200117_WT58_gravel_non_gravel_pt2\"]\n",
    "bio_ref      = ['3', 'GRIN1A']\n",
    "data_200117  = q.Data(path_200117, fname_200117, 'BACTIN',bio_ref)\n",
    "\n",
    "# data_200117.analyse()\n",
    "# data_200117.plot_raw_cq()\n",
    "# data_200117.plot_RQ()\n"
   ]
  },
  {
   "cell_type": "code",
   "execution_count": 4,
   "metadata": {},
   "outputs": [],
   "source": [
    "#-------------------------------------------------------------------------------------------\n",
    "\n",
    "path_200129  = \"../../Analyses/200129_qPCR/\"\n",
    "fname_200129 = [\"200129_WT58_gravel_non_gravel_pt1\", \"200129_WT58_gravel_non_gravel_pt2\"]\n",
    "bio_ref      = ['3', 'GRIN2AA']\n",
    "data_200129  = q.Data(path_200129, fname_200129, 'BACTIN', bio_ref)\n",
    "\n",
    "# data_200129.tidy_each_experiment()[1].to_csv('200129_tidied_2')\n",
    "# data_200129.plot_raw_cq()\n",
    "# data_200129.plot_RQ()\n",
    "# data_200129.calculate_RQ()\n"
   ]
  },
  {
   "cell_type": "code",
   "execution_count": 101,
   "metadata": {},
   "outputs": [
    {
     "name": "stdout",
     "output_type": "stream",
     "text": [
      "['3' '7' '5'] ['3_GRIN2AA, 3_GRIN2AA', '7_GRIN2AA', '5_GRIN2AA']\n",
      "False\n"
     ]
    }
   ],
   "source": [
    "# print(re.search(r'([-\\d]$)', \"3_GRIN2AA_2\").group(0))\n",
    "\n",
    "# re.sub(\"[^A-Z\\d]\", \"\", re.search(\"^[^_]*\", i).group(0).upper()\n",
    "# print(re.search(\"^[^_]*\", \"3_GRIN2AA_1\") )\n",
    "\n",
    "list = ['3_GRIN2AA, 3_GRIN2AA', '7_GRIN2AA', '5_GRIN2AA']\n",
    "# sample_bio_rep = asarray([ re.search(r'([-\\d]$)', i).group(0) for i in list ])\n",
    "\n",
    "# sample_bio_rep = asarray([re.sub(\"[^A-Z\\d]\", \"\", re.search(r'([-\\d]$)', i).group(0).upper()) for i in list])\n",
    "# print(sample_bio_rep, list)\n",
    "\n",
    "\n",
    "sample_condition = asarray([re.sub(\"[^A-Z\\d]\", \"\", re.search(\"^[^_]*\", i).group(0).upper()) for i in list])\n",
    "                            \n",
    "print(sample_condition, list)\n",
    "\n",
    "if re.search(r'([-\\d]$)', '3_2AA'):\n",
    "    print(True)\n",
    "else:\n",
    "    print(False)\n"
   ]
  },
  {
   "cell_type": "code",
   "execution_count": 45,
   "metadata": {},
   "outputs": [
    {
     "name": "stdout",
     "output_type": "stream",
     "text": [
      "<_sre.SRE_Match object; span=(0, 9), match='GRIN2AA_2'>\n"
     ]
    }
   ],
   "source": [
    "\n"
   ]
  },
  {
   "cell_type": "code",
   "execution_count": null,
   "metadata": {},
   "outputs": [],
   "source": []
  },
  {
   "cell_type": "code",
   "execution_count": null,
   "metadata": {},
   "outputs": [],
   "source": []
  }
 ],
 "metadata": {
  "kernelspec": {
   "display_name": "Python 3",
   "language": "python",
   "name": "python3"
  },
  "language_info": {
   "codemirror_mode": {
    "name": "ipython",
    "version": 3
   },
   "file_extension": ".py",
   "mimetype": "text/x-python",
   "name": "python",
   "nbconvert_exporter": "python",
   "pygments_lexer": "ipython3",
   "version": "3.7.3"
  }
 },
 "nbformat": 4,
 "nbformat_minor": 4
}
