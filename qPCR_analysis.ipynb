{
 "cells": [
  {
   "cell_type": "code",
   "execution_count": null,
   "metadata": {},
   "outputs": [],
   "source": [
    "import qPCR as q\n",
    "\n",
    "import pandas as pd, numpy as np\n",
    "import seaborn as sns\n",
    "\n",
    "%matplotlib inline"
   ]
  },
  {
   "cell_type": "code",
   "execution_count": null,
   "metadata": {},
   "outputs": [],
   "source": [
    "path  = \"../Windows7Files/experiments/LightCyclerMakeyev/191122_qPCR/\"\n",
    "fname = \"191122_WT58_GRIN\"\n",
    "\n",
    "file  = path+fname+'.csv'\n",
    "df    = q.tidy_df(pd.read_csv(file, header=0),False)\n",
    "\n",
    "df_relexp       = q.rel_expression_ddcq(df, 'GRIN1A')\n",
    "df_exclude_negs = df_relexp.loc[(df_relexp['Target'] != 'BACTIN') & (df_relexp['Age'] != 'NEG')]\n",
    "df_zoom = df_exclude_negs.loc[(df_exclude_negs['Target'] != 'GRIN1A') & (df_exclude_negs['Target'] != 'GRIN1B')]\n",
    "\n",
    "sns.set(context='paper', style='whitegrid', palette=\"ch:2.5,-.2,dark=.3\", font='sans-serif', font_scale=2, color_codes=True, rc=None)\n",
    "\n",
    "g = sns.catplot(x=\"Target\", y=\"Rel Exp\", hue='Age', data=df_exclude_negs, saturation=.5, kind=\"bar\", ci=None, aspect=.6)\n",
    "(g.set_axis_labels(\"\", \"Relative Expression\").set_xticklabels([\"1A\", \"1B\", \"2AA\", \"2AB\", \"2BA\", \"2BB\"],rotation=45).set_titles(\"{col_name}\").despine(left=True))\n",
    "\n",
    "h = sns.catplot(x=\"Target\", y=\"Rel Exp\", hue='Age', data=df_zoom, saturation=.5, kind=\"bar\", ci=None, aspect=.6)\n",
    "(h.set_axis_labels(\"\", \"Relative Expression\").set_xticklabels([\"2AA\", \"2AB\", \"2BA\", \"2BB\"],rotation=45).set_titles(\"{col_name}\").despine(left=True))"
   ]
  },
  {
   "cell_type": "code",
   "execution_count": null,
   "metadata": {},
   "outputs": [],
   "source": []
  },
  {
   "cell_type": "code",
   "execution_count": null,
   "metadata": {},
   "outputs": [],
   "source": []
  },
  {
   "cell_type": "code",
   "execution_count": null,
   "metadata": {},
   "outputs": [],
   "source": []
  }
 ],
 "metadata": {
  "kernelspec": {
   "display_name": "Python 3",
   "language": "python",
   "name": "python3"
  },
  "language_info": {
   "codemirror_mode": {
    "name": "ipython",
    "version": 3
   },
   "file_extension": ".py",
   "mimetype": "text/x-python",
   "name": "python",
   "nbconvert_exporter": "python",
   "pygments_lexer": "ipython3",
   "version": "3.6.5"
  }
 },
 "nbformat": 4,
 "nbformat_minor": 2
}
